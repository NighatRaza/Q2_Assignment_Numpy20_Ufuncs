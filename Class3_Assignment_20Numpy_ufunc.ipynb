{
 "cells": [
  {
   "cell_type": "markdown",
   "id": "4d720c08",
   "metadata": {},
   "source": [
    "# NUMPY UNIVERSAL FUNCTIONS"
   ]
  },
  {
   "cell_type": "code",
   "execution_count": 86,
   "id": "5a5c2ac2",
   "metadata": {},
   "outputs": [],
   "source": [
    "import numpy as np"
   ]
  },
  {
   "cell_type": "markdown",
   "id": "433e4957",
   "metadata": {},
   "source": [
    "### MATH OPERATIONS"
   ]
  },
  {
   "cell_type": "code",
   "execution_count": 87,
   "id": "e4ddf462",
   "metadata": {},
   "outputs": [
    {
     "data": {
      "text/plain": [
       "array([ 2,  8, 18])"
      ]
     },
     "execution_count": 87,
     "metadata": {},
     "output_type": "execute_result"
    }
   ],
   "source": [
    "arr1 = np.array([1,2,3])\n",
    "arr2 = np.array([2,4,6])\n",
    "\n",
    "# MULTIPLY => Add arguments element wise\n",
    "\n",
    "np.multiply(arr1,arr2)"
   ]
  },
  {
   "cell_type": "code",
   "execution_count": 88,
   "id": "21053065",
   "metadata": {},
   "outputs": [
    {
     "data": {
      "text/plain": [
       "array([4.   , 0.125, 3.   ])"
      ]
     },
     "execution_count": 88,
     "metadata": {},
     "output_type": "execute_result"
    }
   ],
   "source": [
    "arr3 = np.array([1/4, 8, 4/12])\n",
    "\n",
    "# RECIPROCAL => Return the reciprocal of the argument element-wise\n",
    "\n",
    "np.reciprocal(arr3)"
   ]
  },
  {
   "cell_type": "code",
   "execution_count": 89,
   "id": "657ff413",
   "metadata": {},
   "outputs": [
    {
     "data": {
      "text/plain": [
       "array([2., 9., 3.])"
      ]
     },
     "execution_count": 89,
     "metadata": {},
     "output_type": "execute_result"
    }
   ],
   "source": [
    "arr4 = np.array([2.4, 8.7, 10/3])\n",
    "\n",
    "# RINT => Round elements of the array to the nearest integer\n",
    "\n",
    "np.rint(arr4)"
   ]
  },
  {
   "cell_type": "code",
   "execution_count": 90,
   "id": "9717d1f9",
   "metadata": {},
   "outputs": [
    {
     "data": {
      "text/plain": [
       "array([1.11022302e-16, 2.22044605e-16, 3.33066907e-16, 4.44089210e-16])"
      ]
     },
     "execution_count": 90,
     "metadata": {},
     "output_type": "execute_result"
    }
   ],
   "source": [
    "arr5 = np.array([2,4,6,8])\n",
    "arr6 = np.array([6,14,18,28])\n",
    "\n",
    "# FMOD => Returns the element-wise remainder of division\n",
    "\n",
    "np.fmod(arr5,arr5/arr6)\n"
   ]
  },
  {
   "cell_type": "markdown",
   "id": "47b3b33b",
   "metadata": {},
   "source": [
    "### TRIGONOMETRIC FUNCTIONS"
   ]
  },
  {
   "cell_type": "code",
   "execution_count": 91,
   "id": "cc14bcfe",
   "metadata": {},
   "outputs": [
    {
     "data": {
      "text/plain": [
       "array([ 1.        , -0.44807362, -0.59846007,  0.98438195, -0.28369109])"
      ]
     },
     "execution_count": 91,
     "metadata": {},
     "output_type": "execute_result"
    }
   ],
   "source": [
    "arr7 = np.array([0,90,180,270,360])\n",
    "\n",
    "# COS => Cosine element-wise\n",
    "\n",
    "np.cos(arr7)"
   ]
  },
  {
   "cell_type": "code",
   "execution_count": 92,
   "id": "c1e469e8",
   "metadata": {},
   "outputs": [
    {
     "data": {
      "text/plain": [
       "array([0.        , 1.55968567, 1.56524083, 1.56709264, 1.56801856])"
      ]
     },
     "execution_count": 92,
     "metadata": {},
     "output_type": "execute_result"
    }
   ],
   "source": [
    "arr8 = np.array([0,90,180,270,360])\n",
    "\n",
    "# ARCTAN => Trigonometric inverse tangent, element-wise\n",
    "\n",
    "np.arctan(arr8)"
   ]
  },
  {
   "cell_type": "code",
   "execution_count": 93,
   "id": "7592afab",
   "metadata": {},
   "outputs": [
    {
     "data": {
      "text/plain": [
       "array([0.        , 1.57079633, 3.14159265, 4.71238898, 6.28318531])"
      ]
     },
     "execution_count": 93,
     "metadata": {},
     "output_type": "execute_result"
    }
   ],
   "source": [
    "arr9 = np.array([0,90,180,270,360])\n",
    "\n",
    "# RADIANS => Convert angles from degrees to radians\n",
    "\n",
    "np.radians(arr9)"
   ]
  },
  {
   "cell_type": "code",
   "execution_count": 94,
   "id": "9ea82cff",
   "metadata": {},
   "outputs": [
    {
     "data": {
      "text/plain": [
       "4.47213595499958"
      ]
     },
     "execution_count": 94,
     "metadata": {},
     "output_type": "execute_result"
    }
   ],
   "source": [
    "base = 2\n",
    "perp = 4\n",
    "\n",
    "# HYPOT => Given the \"legs\" of a right triangle, return its hypotenuse\n",
    "\n",
    "np.hypot(base,perp)"
   ]
  },
  {
   "cell_type": "markdown",
   "id": "83fe56c7",
   "metadata": {},
   "source": [
    "### BIT-TWIDDLING FUNCTIONS"
   ]
  },
  {
   "cell_type": "code",
   "execution_count": 95,
   "id": "5fdac3ed",
   "metadata": {},
   "outputs": [
    {
     "data": {
      "text/plain": [
       "array([0, 0, 0, 0, 1], dtype=int32)"
      ]
     },
     "execution_count": 95,
     "metadata": {},
     "output_type": "execute_result"
    }
   ],
   "source": [
    "a = np.array([1,0,0,0,1])\n",
    "b = np.array([False,False,True,True,True])\n",
    "\n",
    "# BITWISE_AND => Compute the bit-wise AND of two arrays element-wise\n",
    "\n",
    "np.bitwise_and(a,b)"
   ]
  },
  {
   "cell_type": "code",
   "execution_count": 96,
   "id": "7e558168",
   "metadata": {},
   "outputs": [
    {
     "data": {
      "text/plain": [
       "array([ True, False,  True,  True, False])"
      ]
     },
     "execution_count": 96,
     "metadata": {},
     "output_type": "execute_result"
    }
   ],
   "source": [
    "c = np.array([True,False,False,False,True])\n",
    "d = np.array([False,False,True,True,True])\n",
    "\n",
    "# BITWISE_XOR => Compute the bit-wise XOR of two arrays element-wise\n",
    "\n",
    "np.bitwise_xor(c,d)"
   ]
  },
  {
   "cell_type": "code",
   "execution_count": 97,
   "id": "d1f41704",
   "metadata": {},
   "outputs": [
    {
     "data": {
      "text/plain": [
       "array([ True,  True, False, False, False])"
      ]
     },
     "metadata": {},
     "output_type": "display_data"
    },
    {
     "data": {
      "text/plain": [
       "array([-1, -2, -1, -1, -2], dtype=int32)"
      ]
     },
     "metadata": {},
     "output_type": "display_data"
    }
   ],
   "source": [
    "e = np.array([False,False,True,True,True])\n",
    "f = np.array([0,1,0,0,1])\n",
    "\n",
    "# INVERT => Compute bit-wise inversion, or bit-wise NOT, element-wise\n",
    "\n",
    "display(np.invert(e))\n",
    "display(np.invert(f))"
   ]
  },
  {
   "cell_type": "code",
   "execution_count": 98,
   "id": "318dc313",
   "metadata": {},
   "outputs": [
    {
     "data": {
      "text/plain": [
       "array([2, 0, 5, 0, 2], dtype=int32)"
      ]
     },
     "execution_count": 98,
     "metadata": {},
     "output_type": "execute_result"
    }
   ],
   "source": [
    "g = 5\n",
    "h = np.array([1,8,0,7,1])\n",
    "\n",
    "# RIGHT_SHIFT => Shift the bits of an integer to the right\n",
    "\n",
    "np.right_shift(g,h)"
   ]
  },
  {
   "cell_type": "markdown",
   "id": "ef3ccff3",
   "metadata": {},
   "source": [
    "### COMPARISON FUNCTIONS"
   ]
  },
  {
   "cell_type": "code",
   "execution_count": 99,
   "id": "77fe64c9",
   "metadata": {},
   "outputs": [
    {
     "data": {
      "text/plain": [
       "False"
      ]
     },
     "execution_count": 99,
     "metadata": {},
     "output_type": "execute_result"
    }
   ],
   "source": [
    "i = 20\n",
    "ii = 25\n",
    "\n",
    "# GREATER => Return the truth value of (x1 > x2) element-wise\n",
    "\n",
    "np.greater(i,ii)"
   ]
  },
  {
   "cell_type": "code",
   "execution_count": 100,
   "id": "03d4339e",
   "metadata": {},
   "outputs": [
    {
     "data": {
      "text/plain": [
       "True"
      ]
     },
     "execution_count": 100,
     "metadata": {},
     "output_type": "execute_result"
    }
   ],
   "source": [
    "iii = 22\n",
    "iv = 25\n",
    "\n",
    "# LESS_EQUAL => Return the truth value of (x1 <= x2) element-wise\n",
    "\n",
    "np.less_equal(iii,iv)"
   ]
  },
  {
   "cell_type": "code",
   "execution_count": 101,
   "id": "c19910d5",
   "metadata": {},
   "outputs": [
    {
     "data": {
      "text/plain": [
       "array([ True, False,  True,  True, False])"
      ]
     },
     "execution_count": 101,
     "metadata": {},
     "output_type": "execute_result"
    }
   ],
   "source": [
    "v = np.array([1,0,0,0,1])\n",
    "vi = np.array([0,0,1,1,1])\n",
    "\n",
    "# LOGICAL_XOR => Compute the truth value of x1 XOR x2, element-wise\n",
    "\n",
    "np.logical_xor(v,vi)"
   ]
  },
  {
   "cell_type": "code",
   "execution_count": 102,
   "id": "1e1ac218",
   "metadata": {},
   "outputs": [
    {
     "data": {
      "text/plain": [
       "array([ 8,  3, 91, 40, 37, 26])"
      ]
     },
     "execution_count": 102,
     "metadata": {},
     "output_type": "execute_result"
    }
   ],
   "source": [
    "vii = np.array([2,1,23,40,14,21])\n",
    "viii = np.array([8,3,91,18,37,26])\n",
    "\n",
    "# FMAX => Element-wise maximum of array elements\n",
    "\n",
    "np.fmax(vii,viii)"
   ]
  },
  {
   "cell_type": "markdown",
   "id": "efc2a3b3",
   "metadata": {},
   "source": [
    "### FLOATING FUNCTIONS"
   ]
  },
  {
   "cell_type": "code",
   "execution_count": 103,
   "id": "5df66ee8",
   "metadata": {},
   "outputs": [
    {
     "data": {
      "text/plain": [
       "array([False,  True, False, False, False])"
      ]
     },
     "execution_count": 103,
     "metadata": {},
     "output_type": "execute_result"
    }
   ],
   "source": [
    "import math\n",
    "a = np.array([2,math.nan,0,4,8])\n",
    "\n",
    "# ISNAN => Test element-wise for NaN and return result as a boolean array\n",
    "\n",
    "np.isnan(a)"
   ]
  },
  {
   "cell_type": "code",
   "execution_count": 104,
   "id": "c9316785",
   "metadata": {},
   "outputs": [
    {
     "data": {
      "text/plain": [
       "array([ True,  True, False, False, False])"
      ]
     },
     "execution_count": 104,
     "metadata": {},
     "output_type": "execute_result"
    }
   ],
   "source": [
    "b = np.array([-4,-2,0,2,4])\n",
    "\n",
    "# SIGNBIT => Returns element-wise True where signbit is set (less than zero)\n",
    "\n",
    "np.signbit(b)"
   ]
  },
  {
   "cell_type": "code",
   "execution_count": 105,
   "id": "08669b96",
   "metadata": {},
   "outputs": [
    {
     "data": {
      "text/plain": [
       "array([-4., -2.,  1.,  3.,  5.])"
      ]
     },
     "execution_count": 105,
     "metadata": {},
     "output_type": "execute_result"
    }
   ],
   "source": [
    "c = np.array([-4.4,-2.8,0.1,2.5,4.6])\n",
    "\n",
    "# CEIL => Return the ceiling of the input, element-wise\n",
    "\n",
    "np.ceil(c)"
   ]
  },
  {
   "cell_type": "code",
   "execution_count": 106,
   "id": "306975c4",
   "metadata": {},
   "outputs": [
    {
     "data": {
      "text/plain": [
       "array([-4., -2.,  0.,  2.,  4.])"
      ]
     },
     "execution_count": 106,
     "metadata": {},
     "output_type": "execute_result"
    }
   ],
   "source": [
    "d = np.array([-4.4,-2.8,0.1,2.5,4.6])\n",
    "\n",
    "# TRUNC => Return the truncated value of the input, element-wise\n",
    "\n",
    "np.trunc(d)"
   ]
  },
  {
   "cell_type": "code",
   "execution_count": null,
   "id": "e654fbcb",
   "metadata": {},
   "outputs": [],
   "source": []
  },
  {
   "cell_type": "code",
   "execution_count": null,
   "id": "6896c30f",
   "metadata": {},
   "outputs": [],
   "source": []
  }
 ],
 "metadata": {
  "kernelspec": {
   "display_name": "Python 3",
   "language": "python",
   "name": "python3"
  },
  "language_info": {
   "codemirror_mode": {
    "name": "ipython",
    "version": 3
   },
   "file_extension": ".py",
   "mimetype": "text/x-python",
   "name": "python",
   "nbconvert_exporter": "python",
   "pygments_lexer": "ipython3",
   "version": "3.8.8"
  }
 },
 "nbformat": 4,
 "nbformat_minor": 5
}
